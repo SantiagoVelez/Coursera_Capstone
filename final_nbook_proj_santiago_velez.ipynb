{
 "cells": [
  {
   "cell_type": "markdown",
   "metadata": {},
   "source": [
    "# Influence of nearby common venues on the square meter price of properties in the city of Medellín.\n",
    "\n",
    "#### by Santiago Velez"
   ]
  },
  {
   "cell_type": "markdown",
   "metadata": {},
   "source": [
    "## Introduction/Business Problem"
   ]
  },
  {
   "cell_type": "markdown",
   "metadata": {},
   "source": [
    "It is known that different factors affect the price of a property offered on the market.\n",
    "In a property, both its own characteristics such as its finishes, distribution of the area or the size in square meters, as well as its external characteristics such as its geographical location in a city, have a direct influence on its commercial value.\n",
    "\n",
    "In this study, through a two-step analysis, it will be evaluated whether the common venues near properties influence or not their value. Expressed in the price per square meter in the city of Medellín Colombia.\n",
    "\n",
    "The findings can be used both for construction companies who want to start projects and for buyers and sellers of properties who want to know more about the common venues near the properties that interest them.\n",
    "\n",
    "The analysis steps mentioned are:\n",
    "1. Transformation and grouping of data of properties for sale located in Medellín City.\n",
    "2. Clustering and segmentation by analyzing common venues near the geographic location of properties for each group mentioned in the previous step.\n",
    "\n"
   ]
  },
  {
   "cell_type": "markdown",
   "metadata": {},
   "source": [
    "## Data section"
   ]
  },
  {
   "cell_type": "markdown",
   "metadata": {},
   "source": [
    "Two main data sources are used for the analysis:\n",
    "\n",
    "### 1. Property data with its geographic location in Medellín, Colombia. (Aprox. 6100 records of properties in the dataset)\n",
    "\n",
    "Each property record includes:\n",
    " - An unique code.\n",
    " - Type of offer: (Sale or lease)\n",
    " - Commercial Value\n",
    " - Square meter value\n",
    " - Geographical Coordinates.\n",
    "\n",
    "The data source is taken from the Medellín Real Estate Observatory, an open data platform of the Medellín Mayor's Office.\n",
    "Url: https://geomedellin-m-medellin.opendata.arcgis.com/datasets/observatorio-inmobiliario-de-medell%C3%ADn-de-catastro?geometry=-75.721%2C6.262%2C-75.394%2C6 .322\n",
    "\n",
    "After organizing the data of the properties, the dataset will be divided into 4 (four) groups determined by the quartiles of the price per square meter variable, so we can make a qualitative analysis through clustering and segmentation processes for each stratified group of the properties."
   ]
  },
  {
   "cell_type": "markdown",
   "metadata": {},
   "source": [
    "#### Ten first records of properties Dataset"
   ]
  },
  {
   "attachments": {},
   "cell_type": "markdown",
   "metadata": {},
   "source": [
    "<img src=\"properties_dataSet.png\" />"
   ]
  },
  {
   "cell_type": "markdown",
   "metadata": {},
   "source": [
    "### 2. Foursquare API to query common places near previously classified properties for analysis."
   ]
  }
 ],
 "metadata": {
  "kernelspec": {
   "display_name": "Python 3",
   "language": "python",
   "name": "python3"
  },
  "language_info": {
   "codemirror_mode": {
    "name": "ipython",
    "version": 3
   },
   "file_extension": ".py",
   "mimetype": "text/x-python",
   "name": "python",
   "nbconvert_exporter": "python",
   "pygments_lexer": "ipython3",
   "version": "3.8.3"
  }
 },
 "nbformat": 4,
 "nbformat_minor": 4
}
